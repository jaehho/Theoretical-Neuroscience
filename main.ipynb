{
 "cells": [
  {
   "cell_type": "markdown",
   "metadata": {},
   "source": [
    "# Theoretical Neuroscience: Project 1\n",
    "\n",
    "**Professor:** Brian Frost\n",
    "\n",
    "**Spring 2025**\n",
    "\n",
    "---\n",
    "\n",
    "This notebook implements spike‐train generation using concepts from Chapter 1 of _Dayan and Abbott’s Theoretical Neuroscience_.\n",
    "\n",
    "We consider:\n",
    "\n",
    "- **Homogeneous Poisson Process:** Spike trains with a constant firing rate\n",
    "\n",
    "- **Inhomogeneous Poisson Process:** Spike trains with a time‐varying firing rate\n",
    "\n",
    "- **Refractory Period:** After a spike the neuron is “blocked” for an interval drawn from a hard‐coded (exponential) distribution\n",
    "\n",
    "Computations for each process (with and without refractoriness):\n",
    "\n",
    "- The **Fano factor** (variance/mean of spike counts over many trials)\n",
    "\n",
    "- The **interspike interval (ISI) probability distributions**\n",
    "\n",
    "- The **coefficient of variation (CV)** of the ISIs\n",
    "\n",
    "- The **spike‐train autocorrelation function**"
   ]
  },
  {
   "cell_type": "code",
   "execution_count": 1,
   "metadata": {},
   "outputs": [],
   "source": [
    "import numpy as np\n",
    "import matplotlib.pyplot as plt\n",
    "import seaborn as sns"
   ]
  },
  {
   "cell_type": "markdown",
   "metadata": {},
   "source": [
    "## Simulation Parameters\n",
    "\n",
    "Setting each trial to be 1 second long, the spike train is represented in an array with each value representing a 1 ms time bin."
   ]
  },
  {
   "cell_type": "code",
   "execution_count": 2,
   "metadata": {},
   "outputs": [],
   "source": [
    "T = 1 # Trial duration (s)\n",
    "dt = 0.001 # Bin size (s)\n",
    "# time = np.arange(0, T, dt)"
   ]
  },
  {
   "cell_type": "markdown",
   "metadata": {},
   "source": [
    "## Spike Train Generation\n",
    "\n",
    "**Poisson Process**\n",
    "\n",
    "The poisson distribution is given by\n",
    "\n",
    "$$\n",
    "P_T[n] = \\frac{(rT)^n}{n!} \\exp(-rT).\n",
    "$$\n",
    "\n",
    "where $P_T[n]$ is the probability of observing $n$ spikes in time $T$ given a firing rate of $r$. For a homogeneous poisson process, the firing rate is constant; for an inhomogeneous poisson process, the firing rate is time-varying.\n",
    "\n",
    "For the computational generation I used the following procedure:\n",
    "\n",
    "> \"Spike sequences can be simulated by using some estimate of the firing rate, $r_{\\text{est}}(t)$, predicted from knowledge of the stimulus, to drive a Poisson process. A simple procedure for generating spikes in a computer program is based on the fact that the estimated probability of firing a spike during a short interval of duration $\\Delta t$ is $r_{\\text{est}}(t) \\Delta t$. The program progresses through time in small steps of size $\\Delta t$ and generates, at each time step, a random number $x*{\\text{rand}}$ chosen uniformly in the range between 0 and 1. If $r_{\\text{est}}(t) \\Delta t > x\\_{\\text{rand}}$ at that time step, a spike is fired; otherwise it is not.\" ({cite}`dayan_theoretical_2001`, p.47)\n",
    "\n",
    "**Refractory Period**\n",
    "\n",
    "> \"For a few milliseconds just after an action potential has been fired, it may be virtually impossible to initiate another spike. This is called the absolute refractory period.\" ({cite}`dayan_theoretical_2001`, p.21)\n",
    "\n",
    "> \"Refractory effects can be incorporated into a Poisson model of spike generation by setting the firing rate to 0 immediately after a spike is fired, and then letting it return to its predicted value according to some dynamic rule such as an exponential recovery.\" ({cite}`dayan_theoretical_2001`, p.48)\n",
    "\n",
    "> \"Both the length of the absolute and relative refractory period depend on the nerve cell under consideration, but typical values in the central nervous system are 0.5–1 ms and ≈ 10 ms, respectively.\" {cite}`gabbiani_mathematics_2010`\n",
    "\n",
    "The rule I implemented is an absolute refractory period of 1 ms summed with a relative refractory period drawn from an exponential distribution with a mean of 10 ms.\n",
    "The exponential distribution is given by\n",
    "\n",
    "$$\n",
    "f(x; \\frac{1}{\\beta}) = \\frac{1}{\\beta} \\exp(-\\frac{x}{\\beta}),\n",
    "$$\n",
    "\n",
    "where $\\beta$ is the mean of the distribution.\n"
   ]
  },
  {
   "cell_type": "code",
   "execution_count": 3,
   "metadata": {},
   "outputs": [],
   "source": [
    "# Initialize random number generator\n",
    "rng = np.random.default_rng()"
   ]
  },
  {
   "cell_type": "markdown",
   "metadata": {},
   "source": [
    "### Homogeneous Poisson Process"
   ]
  },
  {
   "cell_type": "code",
   "execution_count": 4,
   "metadata": {},
   "outputs": [
    {
     "data": {
      "text/plain": [
       "array([0., 0., 0., 0., 0., 0., 0., 0., 0., 1.])"
      ]
     },
     "execution_count": 4,
     "metadata": {},
     "output_type": "execute_result"
    }
   ],
   "source": [
    "def generate_spike_train_homogeneous(\n",
    "    r: int,\n",
    "    T: float,\n",
    "    dt: float,\n",
    "    refractory: bool = False,\n",
    "    abs_ref: float = 0.001,\n",
    "    rel_ref_mean: float = 0.01,\n",
    ") -> np.ndarray:\n",
    "    \"\"\"Generate a spike train array according to an homogeneous Poisson process with rate _r_\n",
    "\n",
    "    Args:\n",
    "        r (int): firing rate (Hz)\n",
    "        T (float): trial duration (s)\n",
    "        dt (float): time bin width (s)\n",
    "        refractory (bool, optional): whether to include refractory periods. Defaults to False.\n",
    "        abs_ref (float, optional): absolute refractory period (s). Defaults to 0.001.\n",
    "        rel_ref_mean (float, optional): mean relative refractory period (s). Defaults to 0.01.\n",
    "\n",
    "    Returns:\n",
    "        np.ndarray: spike train array; when a spike is present, the value is 1, otherwise 0\n",
    "    \"\"\"\n",
    "    spike_train_length = int(T/dt)\n",
    "    spike_train = np.zeros(spike_train_length)\n",
    "    next_possible_index = 0  # index until which the neuron is refractory\n",
    "\n",
    "    for i in range(spike_train_length):\n",
    "        if i < next_possible_index:\n",
    "            continue\n",
    "        # The probability to spike in a bin is rate*dt.\n",
    "        if rng.random() < r * dt:\n",
    "            spike_train[i] = 1\n",
    "            if refractory:\n",
    "                ref_period = abs_ref + rng.exponential(scale=rel_ref_mean)\n",
    "                # Convert relative refractory period to number of bins\n",
    "                ref_bins = int(np.ceil(ref_period / dt))\n",
    "                next_possible_index = i + ref_bins\n",
    "    return spike_train\n",
    "generate_spike_train_homogeneous(60, T, dt, refractory=True, rel_ref_mean=0.01)[:10]"
   ]
  },
  {
   "cell_type": "markdown",
   "metadata": {},
   "source": [
    "### Inhomogeneous Poisson Process"
   ]
  },
  {
   "cell_type": "code",
   "execution_count": 5,
   "metadata": {},
   "outputs": [
    {
     "data": {
      "text/plain": [
       "array([1., 0., 0., 0., 0., 0., 0., 0., 0., 0.])"
      ]
     },
     "execution_count": 5,
     "metadata": {},
     "output_type": "execute_result"
    }
   ],
   "source": [
    "def generate_spike_train_inhomogeneous(\n",
    "    r: int,\n",
    "    T: float,\n",
    "    dt: float,\n",
    "    refractory: bool = False,\n",
    "    abs_ref: float = 0.001,\n",
    "    rel_ref_mean: float = 0.01,\n",
    ") -> np.ndarray:\n",
    "    \"\"\"Generate a spike train array according to an inhomogeneous Poisson process with a time varying rate _r_\n",
    "\n",
    "    Args:\n",
    "        r (np.ndarray): array of firing rates at each time bin (Hz)\n",
    "        T (float): trial duration (s)\n",
    "        dt (float): time bin width (s)\n",
    "        refractory (bool, optional): whether to include refractory periods. Defaults to False.\n",
    "        abs_ref (float, optional): absolute refractory period (s). Defaults to 0.001.\n",
    "        rel_ref_mean (float, optional): mean relative refractory period (s). Defaults to 0.01.\n",
    "\n",
    "    Returns:\n",
    "        np.ndarray: spike train array; when a spike is present, the value is 1, otherwise 0\n",
    "    \"\"\"\n",
    "    spike_train_length = int(T/dt)\n",
    "    spike_train = np.zeros(spike_train_length)\n",
    "    next_possible_index = 0  # index until which the neuron is refractory\n",
    "\n",
    "    for i in range(spike_train_length):\n",
    "        if i < next_possible_index:\n",
    "            continue\n",
    "        # The probability to spike in a bin is rate*dt.\n",
    "        if rng.random() < r[i] * dt:\n",
    "            spike_train[i] = 1\n",
    "            if refractory:\n",
    "                ref_period = abs_ref + rng.exponential(scale=rel_ref_mean)\n",
    "                # Convert relative refractory period to number of bins\n",
    "                ref_bins = int(np.ceil(ref_period / dt))\n",
    "                next_possible_index = i + ref_bins\n",
    "    return spike_train\n",
    "generate_spike_train_inhomogeneous(np.full(int(T/dt), 60), T, dt, refractory=True, rel_ref_mean=0.01)[:10]"
   ]
  },
  {
   "cell_type": "markdown",
   "metadata": {},
   "source": [
    "```{bibliography}\n",
    "```"
   ]
  }
 ],
 "metadata": {
  "kernelspec": {
   "display_name": ".venv",
   "language": "python",
   "name": "python3"
  },
  "language_info": {
   "codemirror_mode": {
    "name": "ipython",
    "version": 3
   },
   "file_extension": ".py",
   "mimetype": "text/x-python",
   "name": "python",
   "nbconvert_exporter": "python",
   "pygments_lexer": "ipython3",
   "version": "3.12.3"
  }
 },
 "nbformat": 4,
 "nbformat_minor": 2
}
