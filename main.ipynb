{
 "cells": [
  {
   "cell_type": "markdown",
   "metadata": {},
   "source": [
    "# Theoretical Neuroscience: Project 1\n",
    "\n",
    "**Professor:** Brian Frost\n",
    "\n",
    "**Spring 2025**\n",
    "\n",
    "---\n",
    "\n",
    "This notebook implements spike‐train generation using concepts from Chapter 1 of _Dayan and Abbott’s Theoretical Neuroscience_.\n",
    "\n",
    "We consider:\n",
    "\n",
    "- **Homogeneous Poisson Process:** Spike trains with a constant firing rate\n",
    "\n",
    "- **Inhomogeneous Poisson Process:** Spike trains with a time‐varying firing rate\n",
    "\n",
    "- **Refractory Period:** After a spike the neuron is “blocked” for an interval drawn from a hard‐coded (exponential) distribution\n",
    "\n",
    "Computations for each process (with and without refractoriness):\n",
    "\n",
    "- The **Fano factor** (variance/mean of spike counts over many trials)\n",
    "\n",
    "- The **interspike interval (ISI) probability distributions**\n",
    "\n",
    "- The **coefficient of variation (CV)** of the ISIs\n",
    "\n",
    "- The **spike‐train autocorrelation function**"
   ]
  },
  {
   "cell_type": "code",
   "execution_count": 102,
   "metadata": {},
   "outputs": [],
   "source": [
    "import numpy as np\n",
    "import matplotlib.pyplot as plt\n",
    "from typing import Union"
   ]
  },
  {
   "cell_type": "markdown",
   "metadata": {},
   "source": [
    "### Helper Functions"
   ]
  },
  {
   "cell_type": "code",
   "execution_count": 103,
   "metadata": {},
   "outputs": [
    {
     "data": {
      "text/plain": [
       "array([0.001, 0.003])"
      ]
     },
     "execution_count": 103,
     "metadata": {},
     "output_type": "execute_result"
    }
   ],
   "source": [
    "def spike_train2spike_times(spike_train: np.ndarray, dt: float):\n",
    "    return np.where(spike_train)[0] * dt # np.where returns a tuple where the first element is an array of the indices of the True values in the input array\n",
    "spike_train2spike_times(np.array([0, 1, 0, 1, 0]), dt=0.001)"
   ]
  },
  {
   "cell_type": "code",
   "execution_count": 104,
   "metadata": {},
   "outputs": [
    {
     "data": {
      "image/png": "[encoded data removed]",
      "text/plain": [
       "<Figure size 1000x200 with 1 Axes>"
      ]
     },
     "metadata": {},
     "output_type": "display_data"
    }
   ],
   "source": [
    "def raster_plot(ax, spike_times, xlim=(0, 1), title=\"Raster plot\"):\n",
    "    ax.vlines(spike_times, 0, 1)  # Plot vertical lines for spikes\n",
    "    ax.set_ylim(0, 1)\n",
    "    ax.set_xlim(xlim)\n",
    "    ax.set_xlabel(\"Time (s)\")\n",
    "    ax.set_ylabel(\"Spike\")\n",
    "    ax.set_title(title)\n",
    "    \n",
    "fig, ax = plt.subplots(1, 1, figsize=(10, 2))\n",
    "raster_plot(ax, [0.1, 0.3, 0.5, 0.7, 0.8], title=\"Raster plot\")\n",
    "plt.tight_layout()\n",
    "plt.show()\n"
   ]
  },
  {
   "cell_type": "markdown",
   "metadata": {},
   "source": [
    "## Spike Train Generation\n",
    "\n",
    "**Poisson Process**\n",
    "\n",
    "The poisson distribution is given by\n",
    "\n",
    "$$\n",
    "P_T[n] = \\frac{(rT)^n}{n!} \\exp(-rT).\n",
    "$$\n",
    "\n",
    "where $P_T[n]$ is the probability of observing $n$ spikes in time $T$ given a firing rate of $r$. For a homogeneous poisson process, the firing rate is constant; for an inhomogeneous poisson process, the firing rate is time-varying.\n",
    "\n",
    "**Refractory Period**\n",
    "\n",
    "> \"For a few milliseconds just after an action potential has been fired, it may be virtually impossible to initiate another spike. This is called the absolute refractory period.\" ({cite}`dayan_theoretical_2001`, p.21)\n",
    "\n",
    "> \"Refractory effects can be incorporated into a Poisson model of spike generation by setting the firing rate to 0 immediately after a spike is fired, and then letting it return to its predicted value according to some dynamic rule such as an exponential recovery.\" ({cite}`dayan_theoretical_2001`, p.48)\n",
    "\n",
    "> \"Both the length of the absolute and relative refractory period depend on the nerve cell under consideration, but typical values in the central nervous system are 0.5–1 ms and ≈ 10 ms, respectively.\" {cite}`gabbiani_mathematics_2010`\n",
    "\n",
    "The rule I implemented is an absolute refractory period of 1 ms summed with a relative refractory period drawn from an exponential distribution with a mean of 10 ms.\n",
    "The exponential distribution is given by\n",
    "\n",
    "$$\n",
    "f(x; \\frac{1}{\\beta}) = \\frac{1}{\\beta} \\exp(-\\frac{x}{\\beta}),\n",
    "$$\n",
    "\n",
    "where $\\beta$ is the mean of the distribution.\n"
   ]
  },
  {
   "cell_type": "code",
   "execution_count": 105,
   "metadata": {},
   "outputs": [],
   "source": [
    "# Initialize random number generator\n",
    "rng = np.random.default_rng()"
   ]
  },
  {
   "cell_type": "markdown",
   "metadata": {},
   "source": [
    "### Simple Spike Generator\n",
    "\n",
    "For the spike generation I initially used the following procedure:\n",
    "\n",
    "> \"Spike sequences can be simulated by using some estimate of the firing rate, $r_{\\text{est}}(t)$, predicted from knowledge of the stimulus, to drive a Poisson process. A simple procedure for generating spikes in a computer program is based on the fact that the estimated probability of firing a spike during a short interval of duration $\\Delta t$ is $r_{\\text{est}}(t) \\Delta t$. The program progresses through time in small steps of size $\\Delta t$ and generates, at each time step, a random number $x*{\\text{rand}}$ chosen uniformly in the range between 0 and 1. If $r_{\\text{est}}(t) \\Delta t > x\\_{\\text{rand}}$ at that time step, a spike is fired; otherwise it is not.\" ({cite}`dayan_theoretical_2001`, p.47)"
   ]
  },
  {
   "cell_type": "code",
   "execution_count": 119,
   "metadata": {},
   "outputs": [
    {
     "data": {
      "text/plain": [
       "array([0., 0., 0., 0., 0., 0., 0., 0., 1., 0.])"
      ]
     },
     "execution_count": 119,
     "metadata": {},
     "output_type": "execute_result"
    }
   ],
   "source": [
    "def simple_spike_generator(\n",
    "    r: Union[float, np.ndarray],\n",
    "    T: float = 1,\n",
    "    dt: float = 0.001,\n",
    "    refractory: bool = False,\n",
    "    abs_ref: float = 0.001,\n",
    "    rel_ref_mean: float = 0.01,\n",
    ") -> np.ndarray:\n",
    "    \"\"\"Generate a spike train array according to a Poisson process.\n",
    "\n",
    "    Args:\n",
    "        r (Union[float, np.ndarray]): Firing rate in Hz (if scalar) or array of firing rates at each time step.\n",
    "        T (float, optional): Trial duration in seconds. Defaults to 1.\n",
    "        dt (float, optional): Time step size in seconds. Defaults to 0.001.\n",
    "        refractory (bool, optional): Whether to include refractory periods. Defaults to False.\n",
    "        abs_ref (float, optional): Absolute refractory period in seconds. Defaults to 0.001.\n",
    "        rel_ref_mean (float, optional): Mean relative refractory period in seconds. Defaults to 0.01.\n",
    "\n",
    "    Returns:\n",
    "        np.ndarray: spike train array; when a spike is present, the value is 1, otherwise 0.\n",
    "    \"\"\"\n",
    "    spike_train_length = int(T / dt)\n",
    "    spike_train = np.zeros(spike_train_length)\n",
    "    next_possible_index = 0  # index until which the neuron is refractory\n",
    "    \n",
    "    for i in range(spike_train_length):\n",
    "        if i < next_possible_index:\n",
    "            continue\n",
    "\n",
    "        # Use a homogeneous firing rate if r is scalar, inhomogeneous otherwise (r should be an array of the same length as spike_train)\n",
    "        firing_rate = r if np.isscalar(r) else r[i]\n",
    "        if np.random.random() < firing_rate * dt:\n",
    "            spike_train[i] = 1\n",
    "            if refractory:\n",
    "                ref_period = abs_ref + np.random.exponential(scale=rel_ref_mean)\n",
    "                ref_time_steps = int(np.ceil(ref_period / dt))\n",
    "                next_possible_index = i + ref_time_steps\n",
    "\n",
    "    return spike_train\n",
    "simple_spike_generator(60)[:10]"
   ]
  },
  {
   "cell_type": "code",
   "execution_count": null,
   "metadata": {},
   "outputs": [],
   "source": [
    "# Define parameters\n",
    "T = 1 \n",
    "dt = 0.001\n",
    "abs_ref = 0.001\n",
    "rel_ref_mean = 0.01\n",
    "r = 60\n",
    "\n",
    "# Time varying firing rate\n",
    "r_t = np.repeat([0, 30, 60, 30, 0], int((T/dt)/5))\n",
    "fig, ax = plt.subplots(1, 1, figsize=(10, 2))\n",
    "ax.plot(np.arange(0, T, dt), r_t)\n",
    "ax.set_xlabel(\"Time (s)\")\n",
    "ax.set_ylabel(\"Firing rate (Hz)\")\n",
    "ax.set_title(\"Time-varying firing rate\")\n",
    "plt.tight_layout()\n",
    "plt.show()"
   ]
  },
  {
   "cell_type": "code",
   "execution_count": null,
   "metadata": {},
   "outputs": [
    {
     "data": {
      "image/png": "[encoded data removed]",
      "text/plain": [
       "<Figure size 1500x300 with 4 Axes>"
      ]
     },
     "metadata": {},
     "output_type": "display_data"
    }
   ],
   "source": [
    "# Generate spike trains\n",
    "simple_spike_train_homogeneous = simple_spike_generator(r, T=T, dt=dt, abs_ref=abs_ref, refractory=False, rel_ref_mean=rel_ref_mean)\n",
    "simple_spike_train_homogeneous_refractory = simple_spike_generator(r, T=T, dt=dt, abs_ref=abs_ref, refractory=True, rel_ref_mean=rel_ref_mean)\n",
    "simple_spike_train_inhomogeneous = simple_spike_generator(r_t, T=T, dt=dt, abs_ref=abs_ref, refractory=False, rel_ref_mean=rel_ref_mean)\n",
    "simple_spike_train_inhomogeneous_refractory = simple_spike_generator(r_t, T=T, dt=dt, abs_ref=abs_ref, refractory=True, rel_ref_mean=rel_ref_mean)\n",
    "\n",
    "# Plot spike trains\n",
    "fig, axes = plt.subplots(2, 2, figsize=(15, 3))\n",
    "raster_plot(axes[0, 0], spike_train2spike_times(simple_spike_train_homogeneous, dt=dt), title=\"Homogeneous\")\n",
    "raster_plot(axes[0, 1], spike_train2spike_times(simple_spike_train_homogeneous_refractory, dt=dt), title=\"Homogeneous refractory\")\n",
    "raster_plot(axes[1, 0], spike_train2spike_times(simple_spike_train_inhomogeneous, dt=dt), title=\"Inhomogeneous\")\n",
    "raster_plot(axes[1, 1], spike_train2spike_times(simple_spike_train_inhomogeneous_refractory, dt=dt), title=\"Inhomogeneous refractory\")\n",
    "fig.tight_layout()"
   ]
  },
  {
   "cell_type": "markdown",
   "metadata": {},
   "source": [
    "### Interspike Interval Spike Generators\n",
    "\n",
    "> For a constant firing rate, it is faster to compute spike times $t_i$ for $i = 1, 2, ... n$ iteratively by generating interspike intervals from an exponential probability density\n",
    "\n",
    "**Comparison**\n",
    "- The precision is limited by the bin size in the simple generator, while generating the interspike intervals will allow for up to 17 decimal point precision {cite}`python_floating-point_2025`.\n",
    "- Simple generator can generate arbitrary number of spikes per trial, while the fast generator guarentees $n$ spikes per trial\n"
   ]
  },
  {
   "cell_type": "code",
   "execution_count": 117,
   "metadata": {},
   "outputs": [
    {
     "data": {
      "image/png": "[encoded data removed]",
      "text/plain": [
       "<Figure size 1000x200 with 1 Axes>"
      ]
     },
     "metadata": {},
     "output_type": "display_data"
    }
   ],
   "source": [
    "def fast_spike_generator_homogeneous(\n",
    "    r: int,\n",
    "    T: float,\n",
    "    refractory: bool = False,\n",
    "    abs_ref: float = 0.001,\n",
    "    rel_ref_mean: float = 0.01,\n",
    ") -> np.ndarray:\n",
    "    \"\"\"Generate a spike time array according to an homogeneous Poisson process with rate _r_\n",
    "\n",
    "    Args:\n",
    "        r (int): firing rate (Hz)\n",
    "        T (float): trial duration (s)\n",
    "        refractory (bool, optional): whether to include refractory periods. Defaults to False.\n",
    "        abs_ref (float, optional): absolute refractory period (s). Defaults to 0.001.\n",
    "        rel_ref_mean (float, optional): mean relative refractory period (s). Defaults to 0.01.\n",
    "\n",
    "    Returns:\n",
    "        np.ndarray: spike time array where each entry represents a spike in time (s)\n",
    "    \"\"\"\n",
    "    interspike_intervals = rng.exponential(scale=rel_ref_mean, size=r * T)\n",
    "    \n",
    "    spike_times = np.cumsum(interspike_intervals)\n",
    "    \n",
    "    return spike_times\n",
    "\n",
    "r = 60\n",
    "T = 1\n",
    "abs_ref = 0.001\n",
    "rel_ref_mean = 0.01\n",
    "\n",
    "fast_spike_times_homogeneous = fast_spike_generator_homogeneous(60, T=T, abs_ref=abs_ref, refractory=True, rel_ref_mean=rel_ref_mean)\n",
    "fig, ax = plt.subplots(1, 1, figsize=(10, 2))\n",
    "raster_plot(ax, fast_spike_times_homogeneous, title=\"Homogeneous Fast Spike Train\")\n",
    "plt.xlabel(\"Time (s)\")\n",
    "plt.ylabel(\"Neuron\")\n",
    "plt.title(\"Spike Train Visualization\")\n",
    "plt.tight_layout()"
   ]
  },
  {
   "cell_type": "markdown",
   "metadata": {},
   "source": [
    "Make faster spike generator from textbook\n",
    "\n",
    "implement spike thinning\n",
    "\n",
    "make raster plots\n",
    "\n",
    "do computations\n",
    "\n",
    "research firing rates"
   ]
  },
  {
   "cell_type": "markdown",
   "metadata": {},
   "source": [
    "```{bibliography}\n",
    "```"
   ]
  }
 ],
 "metadata": {
  "kernelspec": {
   "display_name": ".venv",
   "language": "python",
   "name": "python3"
  },
  "language_info": {
   "codemirror_mode": {
    "name": "ipython",
    "version": 3
   },
   "file_extension": ".py",
   "mimetype": "text/x-python",
   "name": "python",
   "nbconvert_exporter": "python",
   "pygments_lexer": "ipython3",
   "version": "3.12.3"
  }
 },
 "nbformat": 4,
 "nbformat_minor": 2
}
