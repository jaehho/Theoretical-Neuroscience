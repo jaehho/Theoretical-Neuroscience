{
 "cells": [
  {
   "cell_type": "code",
   "execution_count": null,
   "metadata": {},
   "outputs": [],
   "source": [
    "from PIL import Image\n",
    "\n",
    "# Load the image\n",
    "image_path = \"assets/project_2/image.jpg\"\n",
    "image = Image.open(image_path)\n",
    "\n",
    "# Display the image (if running in a Jupyter Notebook)\n",
    "image.show()"
   ]
  }
 ],
 "metadata": {
  "language_info": {
   "name": "python"
  }
 },
 "nbformat": 4,
 "nbformat_minor": 2
}
